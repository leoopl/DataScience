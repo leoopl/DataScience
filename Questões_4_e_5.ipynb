{
  "nbformat": 4,
  "nbformat_minor": 0,
  "metadata": {
    "colab": {
      "name": "Questões 4 e 5.ipynb",
      "provenance": [],
      "authorship_tag": "ABX9TyOgni1uXYKt0pCWTFFEIo4I",
      "include_colab_link": true
    },
    "kernelspec": {
      "name": "python3",
      "display_name": "Python 3"
    },
    "language_info": {
      "name": "python"
    }
  },
  "cells": [
    {
      "cell_type": "markdown",
      "metadata": {
        "id": "view-in-github",
        "colab_type": "text"
      },
      "source": [
        "<a href=\"https://colab.research.google.com/github/leoopl/DataScience/blob/main/Quest%C3%B5es_4_e_5.ipynb\" target=\"_parent\"><img src=\"https://colab.research.google.com/assets/colab-badge.svg\" alt=\"Open In Colab\"/></a>"
      ]
    },
    {
      "cell_type": "code",
      "metadata": {
        "id": "qWT2XUtDFl5U"
      },
      "source": [
        "import numpy as np\n",
        "import pandas as pd\n",
        "import matplotlib.pyplot as plt"
      ],
      "execution_count": null,
      "outputs": []
    },
    {
      "cell_type": "code",
      "metadata": {
        "id": "1ZMJk9tNCo4d"
      },
      "source": [
        "#Vt1 = np.random.random_integers(0, 376, 50)\n",
        "#Vt2 = np.random.rand(50)"
      ],
      "execution_count": null,
      "outputs": []
    },
    {
      "cell_type": "code",
      "metadata": {
        "id": "_ajGKRQcKwlO"
      },
      "source": [
        "V1 = ([0.32180137, 0.29730848, 0.99642634, 0.9379177 , 0.39521179,\n",
        "       0.05197626, 0.47021789, 0.15962503, 0.98096211, 0.7959164 ,\n",
        "       0.65670165, 0.28036422, 0.9783579 , 0.94045212, 0.36388764,\n",
        "       0.00912456, 0.87633126, 0.85903506, 0.00602748, 0.37562263,\n",
        "       0.95269493, 0.17679745, 0.67007329, 0.12574399, 0.40965078,\n",
        "       0.57409146, 0.02074268, 0.69396108, 0.19630067, 0.27496735,\n",
        "       0.9756403 , 0.68882344, 0.78007703, 0.11112681, 0.01726316,\n",
        "       0.32271767, 0.28910495, 0.56400443, 0.05296063, 0.62150338,\n",
        "       0.98241004, 0.98294967, 0.03453522, 0.58143678, 0.73800622,\n",
        "       0.35853347, 0.43714696, 0.38981311, 0.73529554, 0.77356718])"
      ],
      "execution_count": null,
      "outputs": []
    },
    {
      "cell_type": "code",
      "metadata": {
        "id": "3R9XPud1KqfS"
      },
      "source": [
        "V2 = ([290, 318, 229, 359,   4, 142, 144, 337, 117, 138, 257, 146, 341,\n",
        "       365, 259,  59, 314, 212, 108,  18, 266, 218, 145, 164, 266,  26,\n",
        "       317,  17, 289, 180,  63, 347, 335, 208,  10,  60, 155, 300,  78,\n",
        "       272, 342, 281, 269, 200, 375, 216,  44, 358, 295, 355])"
      ],
      "execution_count": null,
      "outputs": []
    },
    {
      "cell_type": "code",
      "metadata": {
        "colab": {
          "base_uri": "https://localhost:8080/"
        },
        "id": "QdeAcePHFrvz",
        "outputId": "dac70a16-e7a0-4d0f-ab13-0c74572d082a"
      },
      "source": [
        "print('media =', np.mean(V1))\n",
        "print('mediana =', np.median(V1))"
      ],
      "execution_count": null,
      "outputs": [
        {
          "output_type": "stream",
          "text": [
            "media = 0.5057041512\n",
            "mediana = 0.453682425\n"
          ],
          "name": "stdout"
        }
      ]
    },
    {
      "cell_type": "code",
      "metadata": {
        "colab": {
          "base_uri": "https://localhost:8080/"
        },
        "id": "KqVBMHLkHaNc",
        "outputId": "4d5d2c73-2f20-4b27-f489-3d64ad768da1"
      },
      "source": [
        "print('media =', np.mean(V2))\n",
        "print('mediana =', np.median(V2))"
      ],
      "execution_count": null,
      "outputs": [
        {
          "output_type": "stream",
          "text": [
            "media = 212.16\n",
            "mediana = 223.5\n"
          ],
          "name": "stdout"
        }
      ]
    },
    {
      "cell_type": "code",
      "metadata": {
        "colab": {
          "base_uri": "https://localhost:8080/"
        },
        "id": "QcMf5spJNMyb",
        "outputId": "76da2675-c8c7-4f06-86f1-93f64d817ef3"
      },
      "source": [
        "np.histogram(V1)"
      ],
      "execution_count": null,
      "outputs": [
        {
          "output_type": "execute_result",
          "data": {
            "text/plain": [
              "(array([7, 5, 4, 7, 3, 3, 5, 5, 2, 9]),\n",
              " array([0.00602748, 0.10506737, 0.20410725, 0.30314714, 0.40218702,\n",
              "        0.50122691, 0.6002668 , 0.69930668, 0.79834657, 0.89738645,\n",
              "        0.99642634]))"
            ]
          },
          "metadata": {
            "tags": []
          },
          "execution_count": 72
        }
      ]
    },
    {
      "cell_type": "code",
      "metadata": {
        "colab": {
          "base_uri": "https://localhost:8080/",
          "height": 265
        },
        "id": "T7MTnCVNNMob",
        "outputId": "a69096ad-7837-4a56-9e38-e022cd137375"
      },
      "source": [
        "plt.hist(V1, bins=15)\n",
        "plt.show()"
      ],
      "execution_count": null,
      "outputs": [
        {
          "output_type": "display_data",
          "data": {
            "image/png": "[encoded data removed]",
            "text/plain": [
              "<Figure size 432x288 with 1 Axes>"
            ]
          },
          "metadata": {
            "tags": [],
            "needs_background": "light"
          }
        }
      ]
    },
    {
      "cell_type": "code",
      "metadata": {
        "colab": {
          "base_uri": "https://localhost:8080/"
        },
        "id": "Mua9HQ7wMGPt",
        "outputId": "c4655ecd-f801-46b3-85dd-8a85e729ec11"
      },
      "source": [
        "np.histogram(V2)"
      ],
      "execution_count": null,
      "outputs": [
        {
          "output_type": "execute_result",
          "data": {
            "text/plain": [
              "(array([5, 5, 1, 6, 3, 5, 3, 9, 5, 8]),\n",
              " array([  4. ,  41.1,  78.2, 115.3, 152.4, 189.5, 226.6, 263.7, 300.8,\n",
              "        337.9, 375. ]))"
            ]
          },
          "metadata": {
            "tags": []
          },
          "execution_count": 74
        }
      ]
    },
    {
      "cell_type": "code",
      "metadata": {
        "colab": {
          "base_uri": "https://localhost:8080/",
          "height": 265
        },
        "id": "ZIKrCo8tM3Rx",
        "outputId": "f8998cc1-84dc-46d2-fbf8-9cbf1ac45ed5"
      },
      "source": [
        "plt.hist(V2, bins=15)\n",
        "plt.show()"
      ],
      "execution_count": null,
      "outputs": [
        {
          "output_type": "display_data",
          "data": {
            "image/png": "[encoded data removed]",
            "text/plain": [
              "<Figure size 432x288 with 1 Axes>"
            ]
          },
          "metadata": {
            "tags": [],
            "needs_background": "light"
          }
        }
      ]
    }
  ]
}