{
  "nbformat": 4,
  "nbformat_minor": 0,
  "metadata": {
    "colab": {
      "provenance": [],
      "authorship_tag": "ABX9TyOCBpy8ZNLjgoWsJBRECcZU",
      "include_colab_link": true
    },
    "kernelspec": {
      "name": "python3",
      "display_name": "Python 3"
    },
    "language_info": {
      "name": "python"
    }
  },
  "cells": [
    {
      "cell_type": "markdown",
      "metadata": {
        "id": "view-in-github",
        "colab_type": "text"
      },
      "source": [
        "<a href=\"https://colab.research.google.com/github/leoopl/DataScience/blob/main/CE_GA.ipynb\" target=\"_parent\"><img src=\"https://colab.research.google.com/assets/colab-badge.svg\" alt=\"Open In Colab\"/></a>"
      ]
    },
    {
      "cell_type": "code",
      "metadata": {
        "colab": {
          "base_uri": "https://localhost:8080/"
        },
        "id": "QPkBsNa2KSWX",
        "outputId": "82a82db1-976a-4dee-b597-6ccf96ec7490"
      },
      "source": [
        "import numpy as np\n",
        "import random\n",
        "\n",
        "pop = np.random.randint(2, size=(10,8))\n",
        "pop"
      ],
      "execution_count": null,
      "outputs": [
        {
          "output_type": "execute_result",
          "data": {
            "text/plain": [
              "array([[1, 0, 0, 1, 0, 0, 1, 1],\n",
              "       [0, 0, 0, 1, 0, 1, 1, 0],\n",
              "       [0, 1, 0, 0, 1, 0, 0, 0],\n",
              "       [1, 1, 0, 1, 1, 0, 1, 0],\n",
              "       [1, 0, 0, 1, 0, 0, 0, 1],\n",
              "       [0, 0, 0, 1, 1, 1, 1, 1],\n",
              "       [0, 1, 1, 0, 0, 0, 1, 0],\n",
              "       [1, 0, 0, 0, 0, 1, 1, 1],\n",
              "       [0, 0, 1, 1, 1, 1, 1, 0],\n",
              "       [0, 0, 1, 0, 1, 1, 1, 0]])"
            ]
          },
          "metadata": {
            "tags": []
          },
          "execution_count": 17
        }
      ]
    },
    {
      "cell_type": "code",
      "metadata": {
        "id": "TOH47-rfMX6H"
      },
      "source": [
        "def contAdp(pop):\n",
        "  adp = np.zeros(10)\n",
        "  for x in range(len(pop)):\n",
        "    for j in range(7):\n",
        "      if(pop[x, j] == 0) and (pop[x, j+1] == 1):\n",
        "        adp[x] += 1\n",
        "  return adp"
      ],
      "execution_count": null,
      "outputs": []
    },
    {
      "cell_type": "code",
      "metadata": {
        "id": "08hSwZv_pj06"
      },
      "source": [
        "def adpUnico(aux):\n",
        "  adp1 = 0\n",
        "  for x in range(7):\n",
        "    if(aux[0,x] == 0) and (aux[0,x+1] == 1):\n",
        "      adp1 += 1\n",
        "  return adp1"
      ],
      "execution_count": null,
      "outputs": []
    },
    {
      "cell_type": "code",
      "metadata": {
        "id": "28ls_7eshjqh"
      },
      "source": [
        "def selRoleta(adp):\n",
        "  roleta = np.zeros(20)\n",
        "  total = 0\n",
        "  for x in adp:\n",
        "    total = total + x\n",
        "  x = 1\n",
        "  y = 1\n",
        "  while((x<20) and (y<10)):\n",
        "    z = round((adp[y]*20)/total)\n",
        "    while((z>0) and (x<20)):\n",
        "      roleta[x] = y\n",
        "      x += 1\n",
        "      z -= 1\n",
        "    y += 1\n",
        "  z = random.randrange(20)\n",
        "  return roleta[z]"
      ],
      "execution_count": null,
      "outputs": []
    },
    {
      "cell_type": "code",
      "metadata": {
        "id": "o15-WIs4X8sK"
      },
      "source": [
        "def cruzar(pai, mae):\n",
        "  x = random.randint(1,6)\n",
        "  f1 = np.concatenate([pai[x:], mae[:x]])\n",
        "  f2 = np.concatenate([pai[:x], mae[x:]])\n",
        "  return f1.reshape(1,8), f2.reshape(1,8)"
      ],
      "execution_count": null,
      "outputs": []
    },
    {
      "cell_type": "code",
      "metadata": {
        "id": "UFq00SGieZSL"
      },
      "source": [
        "def mutar(ind, mut):\n",
        "  for y in range(8):\n",
        "    x = random.randint(0,1)\n",
        "    if (x == 0):\n",
        "      mut[0,y] = ind[0,y]\n",
        "    elif (ind[0,y] == 0):\n",
        "      mut[0,y] = 1\n",
        "    else:\n",
        "      mut[0,y] = 0"
      ],
      "execution_count": null,
      "outputs": []
    },
    {
      "cell_type": "code",
      "metadata": {
        "id": "5RsTDxdpYhRD"
      },
      "source": [
        "def maior(adp):\n",
        "  x = -1\n",
        "  for elem in adp:\n",
        "    if(x < elem):\n",
        "      x = elem\n",
        "  return x"
      ],
      "execution_count": null,
      "outputs": []
    },
    {
      "cell_type": "code",
      "metadata": {
        "colab": {
          "base_uri": "https://localhost:8080/"
        },
        "id": "338_-3RDeI7F",
        "outputId": "88099ad0-7d78-4b6d-81d5-9101d3185069"
      },
      "source": [
        "ma = np.random.randint(2, size=(1,8))\n",
        "mb = np.random.randint(2, size=(1,8))\n",
        "adp = contAdp(pop)\n",
        "while(maior(adp) != 4):\n",
        "  xa = int(selRoleta(adp))\n",
        "  pai = pop[xa]\n",
        "  xb = int(selRoleta(adp))\n",
        "  mae = pop[xb]\n",
        "  f1, f2 = cruzar(pai, mae)\n",
        "  mutar(f1, ma)\n",
        "  mutar(f2, mb)\n",
        "  if (adp[xa] < adpUnico(ma)):\n",
        "    pop[xa] = ma\n",
        "  if (adp[xb] < adpUnico(mb)):\n",
        "    pop[xb] = mb\n",
        "  adp = contAdp(pop)\n",
        "print(\"MAIOR ADP> \" , maior(adp))\n",
        "print(pop)"
      ],
      "execution_count": null,
      "outputs": [
        {
          "output_type": "stream",
          "text": [
            "MAIOR ADP>  4.0\n",
            "[[1 0 0 1 0 0 1 1]\n",
            " [0 0 0 1 0 1 1 0]\n",
            " [0 0 1 0 1 0 1 0]\n",
            " [1 1 0 1 1 0 1 0]\n",
            " [1 0 0 1 0 0 0 1]\n",
            " [0 1 1 0 0 0 1 0]\n",
            " [0 1 1 0 0 0 1 0]\n",
            " [0 1 0 1 0 1 0 1]\n",
            " [0 0 1 1 1 1 1 0]\n",
            " [0 0 1 0 1 1 1 0]]\n"
          ],
          "name": "stdout"
        }
      ]
    }
  ]
}